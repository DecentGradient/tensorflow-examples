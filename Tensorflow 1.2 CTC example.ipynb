{
 "cells": [
  {
   "cell_type": "markdown",
   "metadata": {},
   "source": [
    "# Tensorflow 1.2 CTC example"
   ]
  },
  {
   "cell_type": "markdown",
   "metadata": {},
   "source": [
    "There do exist other ctc examples, but this aims to be a pretty minimal example, for easy understanding.\n",
    "\n",
    "The first step is to make some random data."
   ]
  },
  {
   "cell_type": "code",
   "execution_count": 1,
   "metadata": {
    "collapsed": true
   },
   "outputs": [],
   "source": [
    "import tensorflow as tf\n",
    "import numpy as np\n",
    "\n",
    "# Convert dense tensor to sparse tensor, required for ctc\n",
    "def to_sparse(tensor, lengths):\n",
    "    mask = tf.sequence_mask(lengths, tf.reduce_max(lengths))\n",
    "    indices = tf.to_int64(tf.where(tf.equal(mask, True)))\n",
    "    values = tf.to_int32(tf.boolean_mask(tensor, mask))\n",
    "    shape = tf.to_int64(tf.shape(tensor))\n",
    "    return tf.SparseTensor(indices, values, shape)\n",
    "\n",
    "vocab_size = 4\n",
    "lstm_size = 10\n",
    "embed_size = 10\n",
    "samples = 100\n",
    "\n",
    "# The max length of the label should be shorter than the min length of input\n",
    "min_length = 4\n",
    "max_length = 5\n",
    "min_label_len = 2\n",
    "max_label_len = 2\n",
    "\n",
    "# Random inputs\n",
    "inputs = tf.constant(np.random.randint(1, vocab_size, size=[samples, max_length]))\n",
    "lengths = tf.constant(\n",
    "    np.random.randint(min_length, max_length+1, size=samples),\n",
    "    dtype=tf.int32)\n",
    "\n",
    "# Random labels\n",
    "labels = tf.constant(np.random.randint(1, vocab_size, size=[samples, max_label_len]))\n",
    "label_lengths = tf.constant(\n",
    "    np.random.randint(min_label_len, max_label_len+1, size=samples),\n",
    "    dtype=tf.int32)\n",
    "\n",
    "# Convert labels to sparse tensor\n",
    "sparse_labels = to_sparse(labels, label_lengths)\n",
    "\n",
    "# Transpose inputs to time-major\n",
    "inputs = tf.transpose(inputs)\n",
    "\n",
    "# Embed inputs\n",
    "embed = tf.contrib.layers.embed_sequence(inputs, max_length, embed_size)"
   ]
  },
  {
   "cell_type": "markdown",
   "metadata": {},
   "source": [
    "With the data out of the way, we can build our model with surprisingly few lines of code."
   ]
  },
  {
   "cell_type": "code",
   "execution_count": 2,
   "metadata": {},
   "outputs": [],
   "source": [
    "outputs, _ = tf.nn.dynamic_rnn(\n",
    "    tf.nn.rnn_cell.LSTMCell(lstm_size),\n",
    "    embed,\n",
    "    lengths,\n",
    "    time_major=True,\n",
    "    dtype=tf.float32)\n",
    "\n",
    "# Output layer converts lstm_size to vocab_size (plus one for blank label)\n",
    "logits = tf.layers.dense(outputs, vocab_size + 1)\n",
    "\n",
    "# Create train op from ctc loss\n",
    "loss = tf.reduce_mean(tf.nn.ctc_loss(sparse_labels, logits, lengths))\n",
    "train_op = tf.train.AdamOptimizer(0.001).minimize(loss)\n",
    "\n",
    "# Create test op from beam search decoder\n",
    "decoded, _ = tf.nn.ctc_beam_search_decoder(logits, lengths, beam_width=2)\n",
    "error_rate = tf.reduce_mean(tf.edit_distance(sparse_labels, tf.cast(decoded[0], tf.int32)))"
   ]
  },
  {
   "cell_type": "markdown",
   "metadata": {},
   "source": [
    "Now we can go ahead and train the model."
   ]
  },
  {
   "cell_type": "code",
   "execution_count": 3,
   "metadata": {},
   "outputs": [
    {
     "name": "stdout",
     "output_type": "stream",
     "text": [
      "0.881667\n"
     ]
    }
   ],
   "source": [
    "with tf.Session() as sess:\n",
    "    sess.run(tf.global_variables_initializer())\n",
    "\n",
    "    for i in range(1000):\n",
    "        sess.run(train_op)\n",
    "\n",
    "    print(sess.run(error_rate))"
   ]
  }
 ],
 "metadata": {
  "kernelspec": {
   "display_name": "Python 3",
   "language": "python",
   "name": "python3"
  },
  "language_info": {
   "codemirror_mode": {
    "name": "ipython",
    "version": 3
   },
   "file_extension": ".py",
   "mimetype": "text/x-python",
   "name": "python",
   "nbconvert_exporter": "python",
   "pygments_lexer": "ipython3",
   "version": "3.6.1"
  }
 },
 "nbformat": 4,
 "nbformat_minor": 2
}
